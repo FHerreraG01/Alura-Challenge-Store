{
  "nbformat": 4,
  "nbformat_minor": 0,
  "metadata": {
    "colab": {
      "provenance": []
    },
    "kernelspec": {
      "name": "python3",
      "display_name": "Python 3"
    },
    "language_info": {
      "name": "python"
    }
  },
  "cells": [
    {
      "cell_type": "markdown",
      "source": [
        "### Importación de datos\n",
        "\n"
      ],
      "metadata": {
        "id": "RhEdWd9YUR6H"
      }
    },
    {
      "cell_type": "code",
      "execution_count": null,
      "metadata": {
        "colab": {
          "base_uri": "https://localhost:8080/",
          "height": 204
        },
        "id": "T3EvaeQ_INIL",
        "outputId": "441dfc50-bdc9-4470-fb33-a323f86c4ffb"
      },
      "outputs": [
        {
          "output_type": "execute_result",
          "data": {
            "text/plain": [
              "            Producto Categoría del Producto    Precio  Costo de envío  \\\n",
              "0  Asistente virtual           Electrónicos  164300.0          6900.0   \n",
              "1    Mesa de comedor                Muebles  192300.0          8400.0   \n",
              "2      Juego de mesa               Juguetes  209600.0         15900.0   \n",
              "3         Microondas      Electrodomésticos  757500.0         41000.0   \n",
              "4   Silla de oficina                Muebles  335200.0         20200.0   \n",
              "\n",
              "  Fecha de Compra         Vendedor Lugar de Compra  Calificación  \\\n",
              "0      16/01/2021      Pedro Gomez          Bogotá             4   \n",
              "1      18/05/2022  Beatriz Morales        Medellín             1   \n",
              "2      15/03/2021   Juan Fernandez       Cartagena             1   \n",
              "3      03/05/2022   Juan Fernandez            Cali             4   \n",
              "4      07/11/2020    Maria Alfonso        Medellín             5   \n",
              "\n",
              "       Método de pago  Cantidad de cuotas       lat       lon  \n",
              "0  Tarjeta de crédito                   8   4.60971 -74.08175  \n",
              "1  Tarjeta de crédito                   4   6.25184 -75.56359  \n",
              "2  Tarjeta de crédito                   1  10.39972 -75.51444  \n",
              "3               Nequi                   1   3.43722 -76.52250  \n",
              "4               Nequi                   1   6.25184 -75.56359  "
            ],
            "text/html": [
              "\n",
              "  <div id=\"df-239ea253-11b8-4006-8eff-4cc8bb77e0f2\" class=\"colab-df-container\">\n",
              "    <div>\n",
              "<style scoped>\n",
              "    .dataframe tbody tr th:only-of-type {\n",
              "        vertical-align: middle;\n",
              "    }\n",
              "\n",
              "    .dataframe tbody tr th {\n",
              "        vertical-align: top;\n",
              "    }\n",
              "\n",
              "    .dataframe thead th {\n",
              "        text-align: right;\n",
              "    }\n",
              "</style>\n",
              "<table border=\"1\" class=\"dataframe\">\n",
              "  <thead>\n",
              "    <tr style=\"text-align: right;\">\n",
              "      <th></th>\n",
              "      <th>Producto</th>\n",
              "      <th>Categoría del Producto</th>\n",
              "      <th>Precio</th>\n",
              "      <th>Costo de envío</th>\n",
              "      <th>Fecha de Compra</th>\n",
              "      <th>Vendedor</th>\n",
              "      <th>Lugar de Compra</th>\n",
              "      <th>Calificación</th>\n",
              "      <th>Método de pago</th>\n",
              "      <th>Cantidad de cuotas</th>\n",
              "      <th>lat</th>\n",
              "      <th>lon</th>\n",
              "    </tr>\n",
              "  </thead>\n",
              "  <tbody>\n",
              "    <tr>\n",
              "      <th>0</th>\n",
              "      <td>Asistente virtual</td>\n",
              "      <td>Electrónicos</td>\n",
              "      <td>164300.0</td>\n",
              "      <td>6900.0</td>\n",
              "      <td>16/01/2021</td>\n",
              "      <td>Pedro Gomez</td>\n",
              "      <td>Bogotá</td>\n",
              "      <td>4</td>\n",
              "      <td>Tarjeta de crédito</td>\n",
              "      <td>8</td>\n",
              "      <td>4.60971</td>\n",
              "      <td>-74.08175</td>\n",
              "    </tr>\n",
              "    <tr>\n",
              "      <th>1</th>\n",
              "      <td>Mesa de comedor</td>\n",
              "      <td>Muebles</td>\n",
              "      <td>192300.0</td>\n",
              "      <td>8400.0</td>\n",
              "      <td>18/05/2022</td>\n",
              "      <td>Beatriz Morales</td>\n",
              "      <td>Medellín</td>\n",
              "      <td>1</td>\n",
              "      <td>Tarjeta de crédito</td>\n",
              "      <td>4</td>\n",
              "      <td>6.25184</td>\n",
              "      <td>-75.56359</td>\n",
              "    </tr>\n",
              "    <tr>\n",
              "      <th>2</th>\n",
              "      <td>Juego de mesa</td>\n",
              "      <td>Juguetes</td>\n",
              "      <td>209600.0</td>\n",
              "      <td>15900.0</td>\n",
              "      <td>15/03/2021</td>\n",
              "      <td>Juan Fernandez</td>\n",
              "      <td>Cartagena</td>\n",
              "      <td>1</td>\n",
              "      <td>Tarjeta de crédito</td>\n",
              "      <td>1</td>\n",
              "      <td>10.39972</td>\n",
              "      <td>-75.51444</td>\n",
              "    </tr>\n",
              "    <tr>\n",
              "      <th>3</th>\n",
              "      <td>Microondas</td>\n",
              "      <td>Electrodomésticos</td>\n",
              "      <td>757500.0</td>\n",
              "      <td>41000.0</td>\n",
              "      <td>03/05/2022</td>\n",
              "      <td>Juan Fernandez</td>\n",
              "      <td>Cali</td>\n",
              "      <td>4</td>\n",
              "      <td>Nequi</td>\n",
              "      <td>1</td>\n",
              "      <td>3.43722</td>\n",
              "      <td>-76.52250</td>\n",
              "    </tr>\n",
              "    <tr>\n",
              "      <th>4</th>\n",
              "      <td>Silla de oficina</td>\n",
              "      <td>Muebles</td>\n",
              "      <td>335200.0</td>\n",
              "      <td>20200.0</td>\n",
              "      <td>07/11/2020</td>\n",
              "      <td>Maria Alfonso</td>\n",
              "      <td>Medellín</td>\n",
              "      <td>5</td>\n",
              "      <td>Nequi</td>\n",
              "      <td>1</td>\n",
              "      <td>6.25184</td>\n",
              "      <td>-75.56359</td>\n",
              "    </tr>\n",
              "  </tbody>\n",
              "</table>\n",
              "</div>\n",
              "    <div class=\"colab-df-buttons\">\n",
              "\n",
              "  <div class=\"colab-df-container\">\n",
              "    <button class=\"colab-df-convert\" onclick=\"convertToInteractive('df-239ea253-11b8-4006-8eff-4cc8bb77e0f2')\"\n",
              "            title=\"Convert this dataframe to an interactive table.\"\n",
              "            style=\"display:none;\">\n",
              "\n",
              "  <svg xmlns=\"http://www.w3.org/2000/svg\" height=\"24px\" viewBox=\"0 -960 960 960\">\n",
              "    <path d=\"M120-120v-720h720v720H120Zm60-500h600v-160H180v160Zm220 220h160v-160H400v160Zm0 220h160v-160H400v160ZM180-400h160v-160H180v160Zm440 0h160v-160H620v160ZM180-180h160v-160H180v160Zm440 0h160v-160H620v160Z\"/>\n",
              "  </svg>\n",
              "    </button>\n",
              "\n",
              "  <style>\n",
              "    .colab-df-container {\n",
              "      display:flex;\n",
              "      gap: 12px;\n",
              "    }\n",
              "\n",
              "    .colab-df-convert {\n",
              "      background-color: #E8F0FE;\n",
              "      border: none;\n",
              "      border-radius: 50%;\n",
              "      cursor: pointer;\n",
              "      display: none;\n",
              "      fill: #1967D2;\n",
              "      height: 32px;\n",
              "      padding: 0 0 0 0;\n",
              "      width: 32px;\n",
              "    }\n",
              "\n",
              "    .colab-df-convert:hover {\n",
              "      background-color: #E2EBFA;\n",
              "      box-shadow: 0px 1px 2px rgba(60, 64, 67, 0.3), 0px 1px 3px 1px rgba(60, 64, 67, 0.15);\n",
              "      fill: #174EA6;\n",
              "    }\n",
              "\n",
              "    .colab-df-buttons div {\n",
              "      margin-bottom: 4px;\n",
              "    }\n",
              "\n",
              "    [theme=dark] .colab-df-convert {\n",
              "      background-color: #3B4455;\n",
              "      fill: #D2E3FC;\n",
              "    }\n",
              "\n",
              "    [theme=dark] .colab-df-convert:hover {\n",
              "      background-color: #434B5C;\n",
              "      box-shadow: 0px 1px 3px 1px rgba(0, 0, 0, 0.15);\n",
              "      filter: drop-shadow(0px 1px 2px rgba(0, 0, 0, 0.3));\n",
              "      fill: #FFFFFF;\n",
              "    }\n",
              "  </style>\n",
              "\n",
              "    <script>\n",
              "      const buttonEl =\n",
              "        document.querySelector('#df-239ea253-11b8-4006-8eff-4cc8bb77e0f2 button.colab-df-convert');\n",
              "      buttonEl.style.display =\n",
              "        google.colab.kernel.accessAllowed ? 'block' : 'none';\n",
              "\n",
              "      async function convertToInteractive(key) {\n",
              "        const element = document.querySelector('#df-239ea253-11b8-4006-8eff-4cc8bb77e0f2');\n",
              "        const dataTable =\n",
              "          await google.colab.kernel.invokeFunction('convertToInteractive',\n",
              "                                                    [key], {});\n",
              "        if (!dataTable) return;\n",
              "\n",
              "        const docLinkHtml = 'Like what you see? Visit the ' +\n",
              "          '<a target=\"_blank\" href=https://colab.research.google.com/notebooks/data_table.ipynb>data table notebook</a>'\n",
              "          + ' to learn more about interactive tables.';\n",
              "        element.innerHTML = '';\n",
              "        dataTable['output_type'] = 'display_data';\n",
              "        await google.colab.output.renderOutput(dataTable, element);\n",
              "        const docLink = document.createElement('div');\n",
              "        docLink.innerHTML = docLinkHtml;\n",
              "        element.appendChild(docLink);\n",
              "      }\n",
              "    </script>\n",
              "  </div>\n",
              "\n",
              "\n",
              "    <div id=\"df-bb0eafc3-d476-4d59-b933-4577cf485862\">\n",
              "      <button class=\"colab-df-quickchart\" onclick=\"quickchart('df-bb0eafc3-d476-4d59-b933-4577cf485862')\"\n",
              "                title=\"Suggest charts\"\n",
              "                style=\"display:none;\">\n",
              "\n",
              "<svg xmlns=\"http://www.w3.org/2000/svg\" height=\"24px\"viewBox=\"0 0 24 24\"\n",
              "     width=\"24px\">\n",
              "    <g>\n",
              "        <path d=\"M19 3H5c-1.1 0-2 .9-2 2v14c0 1.1.9 2 2 2h14c1.1 0 2-.9 2-2V5c0-1.1-.9-2-2-2zM9 17H7v-7h2v7zm4 0h-2V7h2v10zm4 0h-2v-4h2v4z\"/>\n",
              "    </g>\n",
              "</svg>\n",
              "      </button>\n",
              "\n",
              "<style>\n",
              "  .colab-df-quickchart {\n",
              "      --bg-color: #E8F0FE;\n",
              "      --fill-color: #1967D2;\n",
              "      --hover-bg-color: #E2EBFA;\n",
              "      --hover-fill-color: #174EA6;\n",
              "      --disabled-fill-color: #AAA;\n",
              "      --disabled-bg-color: #DDD;\n",
              "  }\n",
              "\n",
              "  [theme=dark] .colab-df-quickchart {\n",
              "      --bg-color: #3B4455;\n",
              "      --fill-color: #D2E3FC;\n",
              "      --hover-bg-color: #434B5C;\n",
              "      --hover-fill-color: #FFFFFF;\n",
              "      --disabled-bg-color: #3B4455;\n",
              "      --disabled-fill-color: #666;\n",
              "  }\n",
              "\n",
              "  .colab-df-quickchart {\n",
              "    background-color: var(--bg-color);\n",
              "    border: none;\n",
              "    border-radius: 50%;\n",
              "    cursor: pointer;\n",
              "    display: none;\n",
              "    fill: var(--fill-color);\n",
              "    height: 32px;\n",
              "    padding: 0;\n",
              "    width: 32px;\n",
              "  }\n",
              "\n",
              "  .colab-df-quickchart:hover {\n",
              "    background-color: var(--hover-bg-color);\n",
              "    box-shadow: 0 1px 2px rgba(60, 64, 67, 0.3), 0 1px 3px 1px rgba(60, 64, 67, 0.15);\n",
              "    fill: var(--button-hover-fill-color);\n",
              "  }\n",
              "\n",
              "  .colab-df-quickchart-complete:disabled,\n",
              "  .colab-df-quickchart-complete:disabled:hover {\n",
              "    background-color: var(--disabled-bg-color);\n",
              "    fill: var(--disabled-fill-color);\n",
              "    box-shadow: none;\n",
              "  }\n",
              "\n",
              "  .colab-df-spinner {\n",
              "    border: 2px solid var(--fill-color);\n",
              "    border-color: transparent;\n",
              "    border-bottom-color: var(--fill-color);\n",
              "    animation:\n",
              "      spin 1s steps(1) infinite;\n",
              "  }\n",
              "\n",
              "  @keyframes spin {\n",
              "    0% {\n",
              "      border-color: transparent;\n",
              "      border-bottom-color: var(--fill-color);\n",
              "      border-left-color: var(--fill-color);\n",
              "    }\n",
              "    20% {\n",
              "      border-color: transparent;\n",
              "      border-left-color: var(--fill-color);\n",
              "      border-top-color: var(--fill-color);\n",
              "    }\n",
              "    30% {\n",
              "      border-color: transparent;\n",
              "      border-left-color: var(--fill-color);\n",
              "      border-top-color: var(--fill-color);\n",
              "      border-right-color: var(--fill-color);\n",
              "    }\n",
              "    40% {\n",
              "      border-color: transparent;\n",
              "      border-right-color: var(--fill-color);\n",
              "      border-top-color: var(--fill-color);\n",
              "    }\n",
              "    60% {\n",
              "      border-color: transparent;\n",
              "      border-right-color: var(--fill-color);\n",
              "    }\n",
              "    80% {\n",
              "      border-color: transparent;\n",
              "      border-right-color: var(--fill-color);\n",
              "      border-bottom-color: var(--fill-color);\n",
              "    }\n",
              "    90% {\n",
              "      border-color: transparent;\n",
              "      border-bottom-color: var(--fill-color);\n",
              "    }\n",
              "  }\n",
              "</style>\n",
              "\n",
              "      <script>\n",
              "        async function quickchart(key) {\n",
              "          const quickchartButtonEl =\n",
              "            document.querySelector('#' + key + ' button');\n",
              "          quickchartButtonEl.disabled = true;  // To prevent multiple clicks.\n",
              "          quickchartButtonEl.classList.add('colab-df-spinner');\n",
              "          try {\n",
              "            const charts = await google.colab.kernel.invokeFunction(\n",
              "                'suggestCharts', [key], {});\n",
              "          } catch (error) {\n",
              "            console.error('Error during call to suggestCharts:', error);\n",
              "          }\n",
              "          quickchartButtonEl.classList.remove('colab-df-spinner');\n",
              "          quickchartButtonEl.classList.add('colab-df-quickchart-complete');\n",
              "        }\n",
              "        (() => {\n",
              "          let quickchartButtonEl =\n",
              "            document.querySelector('#df-bb0eafc3-d476-4d59-b933-4577cf485862 button');\n",
              "          quickchartButtonEl.style.display =\n",
              "            google.colab.kernel.accessAllowed ? 'block' : 'none';\n",
              "        })();\n",
              "      </script>\n",
              "    </div>\n",
              "\n",
              "    </div>\n",
              "  </div>\n"
            ],
            "application/vnd.google.colaboratory.intrinsic+json": {
              "type": "dataframe",
              "variable_name": "tienda",
              "summary": "{\n  \"name\": \"tienda\",\n  \"rows\": 2359,\n  \"fields\": [\n    {\n      \"column\": \"Producto\",\n      \"properties\": {\n        \"dtype\": \"category\",\n        \"num_unique_values\": 51,\n        \"samples\": [\n          \"Guitarra ac\\u00fastica\",\n          \"Bal\\u00f3n de baloncesto\",\n          \"Smartwatch\"\n        ],\n        \"semantic_type\": \"\",\n        \"description\": \"\"\n      }\n    },\n    {\n      \"column\": \"Categor\\u00eda del Producto\",\n      \"properties\": {\n        \"dtype\": \"category\",\n        \"num_unique_values\": 8,\n        \"samples\": [\n          \"Muebles\",\n          \"Deportes y diversi\\u00f3n\",\n          \"Electr\\u00f3nicos\"\n        ],\n        \"semantic_type\": \"\",\n        \"description\": \"\"\n      }\n    },\n    {\n      \"column\": \"Precio\",\n      \"properties\": {\n        \"dtype\": \"number\",\n        \"std\": 614686.7653873172,\n        \"min\": 7600.0,\n        \"max\": 2977000.0,\n        \"num_unique_values\": 1937,\n        \"samples\": [\n          2499400.0,\n          14800.0,\n          80500.0\n        ],\n        \"semantic_type\": \"\",\n        \"description\": \"\"\n      }\n    },\n    {\n      \"column\": \"Costo de env\\u00edo\",\n      \"properties\": {\n        \"dtype\": \"number\",\n        \"std\": 32860.0017825605,\n        \"min\": 0.0,\n        \"max\": 160800.0,\n        \"num_unique_values\": 753,\n        \"samples\": [\n          117800.0,\n          54700.0,\n          45600.0\n        ],\n        \"semantic_type\": \"\",\n        \"description\": \"\"\n      }\n    },\n    {\n      \"column\": \"Fecha de Compra\",\n      \"properties\": {\n        \"dtype\": \"object\",\n        \"num_unique_values\": 1018,\n        \"samples\": [\n          \"15/09/2022\",\n          \"03/06/2020\",\n          \"06/11/2021\"\n        ],\n        \"semantic_type\": \"\",\n        \"description\": \"\"\n      }\n    },\n    {\n      \"column\": \"Vendedor\",\n      \"properties\": {\n        \"dtype\": \"category\",\n        \"num_unique_values\": 14,\n        \"samples\": [\n          \"Juliana Costa\",\n          \"Mariana Herrera\",\n          \"Pedro Gomez\"\n        ],\n        \"semantic_type\": \"\",\n        \"description\": \"\"\n      }\n    },\n    {\n      \"column\": \"Lugar de Compra\",\n      \"properties\": {\n        \"dtype\": \"category\",\n        \"num_unique_values\": 19,\n        \"samples\": [\n          \"Bogot\\u00e1\",\n          \"Pereira\",\n          \"Neiva\"\n        ],\n        \"semantic_type\": \"\",\n        \"description\": \"\"\n      }\n    },\n    {\n      \"column\": \"Calificaci\\u00f3n\",\n      \"properties\": {\n        \"dtype\": \"number\",\n        \"std\": 1,\n        \"min\": 1,\n        \"max\": 5,\n        \"num_unique_values\": 5,\n        \"samples\": [\n          1,\n          2,\n          5\n        ],\n        \"semantic_type\": \"\",\n        \"description\": \"\"\n      }\n    },\n    {\n      \"column\": \"M\\u00e9todo de pago\",\n      \"properties\": {\n        \"dtype\": \"category\",\n        \"num_unique_values\": 4,\n        \"samples\": [\n          \"Nequi\",\n          \"Tarjeta de d\\u00e9bito\",\n          \"Tarjeta de cr\\u00e9dito\"\n        ],\n        \"semantic_type\": \"\",\n        \"description\": \"\"\n      }\n    },\n    {\n      \"column\": \"Cantidad de cuotas\",\n      \"properties\": {\n        \"dtype\": \"number\",\n        \"std\": 2,\n        \"min\": 1,\n        \"max\": 24,\n        \"num_unique_values\": 15,\n        \"samples\": [\n          7,\n          14,\n          8\n        ],\n        \"semantic_type\": \"\",\n        \"description\": \"\"\n      }\n    },\n    {\n      \"column\": \"lat\",\n      \"properties\": {\n        \"dtype\": \"number\",\n        \"std\": 2.2874452492678627,\n        \"min\": -4.21528,\n        \"max\": 11.54444,\n        \"num_unique_values\": 19,\n        \"samples\": [\n          4.60971,\n          4.81333,\n          2.9273\n        ],\n        \"semantic_type\": \"\",\n        \"description\": \"\"\n      }\n    },\n    {\n      \"column\": \"lon\",\n      \"properties\": {\n        \"dtype\": \"number\",\n        \"std\": 1.2178272727088486,\n        \"min\": -77.28111,\n        \"max\": -67.9239,\n        \"num_unique_values\": 19,\n        \"samples\": [\n          -74.08175,\n          -75.69611,\n          -75.28189\n        ],\n        \"semantic_type\": \"\",\n        \"description\": \"\"\n      }\n    }\n  ]\n}"
            }
          },
          "metadata": {},
          "execution_count": 3
        }
      ],
      "source": [
        "import pandas as pd\n",
        "\n",
        "url = \"https://raw.githubusercontent.com/alura-es-cursos/challenge1-data-science-latam/refs/heads/main/base-de-datos-challenge1-latam/tienda_1%20.csv\"\n",
        "url2 = \"https://raw.githubusercontent.com/alura-es-cursos/challenge1-data-science-latam/refs/heads/main/base-de-datos-challenge1-latam/tienda_2.csv\"\n",
        "url3 = \"https://raw.githubusercontent.com/alura-es-cursos/challenge1-data-science-latam/refs/heads/main/base-de-datos-challenge1-latam/tienda_3.csv\"\n",
        "url4 = \"https://raw.githubusercontent.com/alura-es-cursos/challenge1-data-science-latam/refs/heads/main/base-de-datos-challenge1-latam/tienda_4.csv\"\n",
        "\n",
        "tienda = pd.read_csv(url)\n",
        "tienda2 = pd.read_csv(url2)\n",
        "tienda3 = pd.read_csv(url3)\n",
        "tienda4 = pd.read_csv(url4)\n",
        "\n",
        "tienda.head()"
      ]
    },
    {
      "cell_type": "markdown",
      "source": [
        "**Realizar**\n",
        "\n",
        "\n",
        "*   Crear visualizacion de datos con biblioteca matplotlib\n",
        "*   Analice metricas como ingresos, reseñas y rendimineto de ventas.\n",
        "\n",
        "*Requisitos*\n",
        "\n",
        "*   Analizar datos de la tienda:\n",
        "     Debes evaluar informacin como los ingresos, las categorias mas vendidas , las reseñas de los clientes, los productos mas vendidso y el envio promedio.\n",
        "\n",
        "\n",
        "\n",
        "*   Crear graficos para visualización:\n",
        "    Decide que tipos de graficos utilizar para presentar los rfesultados de forma clara y visual.\n",
        "    Minimo 3 graficos diferentes, que pueden incluir graficos de barras, circulares, de dispersion y otros.\n",
        "   \n",
        "\n",
        "*   Enviar una recomendacion:\n",
        "    Despues del analisis, escriba un tecto explicando a que tienda deberia vender el Sr Joao y por que, basandose en los datos representados.\n",
        "\n",
        "\n",
        "\n",
        "\n",
        "\n",
        "\n",
        "\n"
      ],
      "metadata": {
        "id": "VExuTJb7pTpB"
      }
    },
    {
      "cell_type": "markdown",
      "source": [
        "#1. Análisis de facturación\n",
        "\n"
      ],
      "metadata": {
        "id": "X62IW3KFUIYm"
      }
    },
    {
      "cell_type": "code",
      "source": [
        "!pip install matplotlib"
      ],
      "metadata": {
        "id": "xykobSftV64I",
        "colab": {
          "base_uri": "https://localhost:8080/"
        },
        "outputId": "3042b9e2-8c46-4c94-cb66-17ef3fddb5cf"
      },
      "execution_count": null,
      "outputs": [
        {
          "output_type": "stream",
          "name": "stdout",
          "text": [
            "Requirement already satisfied: matplotlib in /usr/local/lib/python3.11/dist-packages (3.10.0)\n",
            "Requirement already satisfied: contourpy>=1.0.1 in /usr/local/lib/python3.11/dist-packages (from matplotlib) (1.3.3)\n",
            "Requirement already satisfied: cycler>=0.10 in /usr/local/lib/python3.11/dist-packages (from matplotlib) (0.12.1)\n",
            "Requirement already satisfied: fonttools>=4.22.0 in /usr/local/lib/python3.11/dist-packages (from matplotlib) (4.59.0)\n",
            "Requirement already satisfied: kiwisolver>=1.3.1 in /usr/local/lib/python3.11/dist-packages (from matplotlib) (1.4.8)\n",
            "Requirement already satisfied: numpy>=1.23 in /usr/local/lib/python3.11/dist-packages (from matplotlib) (2.0.2)\n",
            "Requirement already satisfied: packaging>=20.0 in /usr/local/lib/python3.11/dist-packages (from matplotlib) (25.0)\n",
            "Requirement already satisfied: pillow>=8 in /usr/local/lib/python3.11/dist-packages (from matplotlib) (11.3.0)\n",
            "Requirement already satisfied: pyparsing>=2.3.1 in /usr/local/lib/python3.11/dist-packages (from matplotlib) (3.2.3)\n",
            "Requirement already satisfied: python-dateutil>=2.7 in /usr/local/lib/python3.11/dist-packages (from matplotlib) (2.9.0.post0)\n",
            "Requirement already satisfied: six>=1.5 in /usr/local/lib/python3.11/dist-packages (from python-dateutil>=2.7->matplotlib) (1.17.0)\n"
          ]
        }
      ]
    },
    {
      "cell_type": "code",
      "source": [
        "import matplotlib.pyplot as plt"
      ],
      "metadata": {
        "id": "KDyr8E71V3m-"
      },
      "execution_count": null,
      "outputs": []
    },
    {
      "cell_type": "code",
      "source": [
        "tienda[\"Tienda\"] = \"Tienda 1\"\n",
        "tienda2[\"Tienda\"] = \"Tienda 2\"\n",
        "tienda3[\"Tienda\"] = \"Tienda 3\"\n",
        "tienda4[\"Tienda\"] = \"Tienda 4\""
      ],
      "metadata": {
        "id": "glsxNennLh47"
      },
      "execution_count": null,
      "outputs": []
    },
    {
      "cell_type": "code",
      "source": [
        "datos = pd.concat([tienda, tienda2, tienda3, tienda4], ignore_index= True)\n",
        "print(datos.columns)"
      ],
      "metadata": {
        "colab": {
          "base_uri": "https://localhost:8080/"
        },
        "id": "BtFQcoRlMPsA",
        "outputId": "956aa655-66af-4605-a3d5-fd20a25c6a7c"
      },
      "execution_count": null,
      "outputs": [
        {
          "output_type": "stream",
          "name": "stdout",
          "text": [
            "Index(['Producto', 'Categoría del Producto', 'Precio', 'Costo de envío',\n",
            "       'Fecha de Compra', 'Vendedor', 'Lugar de Compra', 'Calificación',\n",
            "       'Método de pago', 'Cantidad de cuotas', 'lat', 'lon', 'Tienda'],\n",
            "      dtype='object')\n"
          ]
        }
      ]
    },
    {
      "cell_type": "code",
      "source": [
        "ingresos = datos.groupby(\"Tienda\")[\"Precio\"].sum().round().sort_values()\n",
        "print(ingresos.astype(int))"
      ],
      "metadata": {
        "colab": {
          "base_uri": "https://localhost:8080/"
        },
        "id": "vxfRef53OH2c",
        "outputId": "d137b315-43bf-48fe-a9f9-eb331db8bd26"
      },
      "execution_count": null,
      "outputs": [
        {
          "output_type": "stream",
          "name": "stdout",
          "text": [
            "Tienda\n",
            "Tienda 4    1038375700\n",
            "Tienda 3    1098019600\n",
            "Tienda 2    1116343500\n",
            "Tienda 1    1150880400\n",
            "Name: Precio, dtype: int64\n"
          ]
        }
      ]
    },
    {
      "cell_type": "markdown",
      "source": [
        "Datos Por tienda"
      ],
      "metadata": {
        "id": "Bodags1MMsEv"
      }
    },
    {
      "cell_type": "code",
      "source": [
        "plt.figure(figsize=(6,8))\n",
        "ax = ingresos.plot(kind=\"bar\", title=\"Ingresos por Tienda\", ylabel=\"Total Ventas\", color=\"purple\")\n",
        "ax.set_xlabel(\"Tiendas\")\n",
        "for p in ax.patches: # ax.patches es la lista de todas las barras\n",
        "    ax.annotate(f\"{int(p.get_height()):,}\", # Formatea el número\n",
        "                (p.get_x() + p.get_width() / 2., p.get_height()),\n",
        "                ha='center', va='center',\n",
        "                xytext=(0, 9),\n",
        "                textcoords='offset points')\n",
        "\n",
        "plt.show()"
      ],
      "metadata": {
        "colab": {
          "base_uri": "https://localhost:8080/",
          "height": 764
        },
        "id": "lQ2nFIn7MqTb",
        "outputId": "bda8c26f-9a7e-42ae-fd73-ed3d44e14fba"
      },
      "execution_count": null,
      "outputs": [
        {
          "output_type": "display_data",
          "data": {
            "text/plain": [
              "<Figure size 600x800 with 1 Axes>"
            ],
            "image/png": "[encoded data removed]"
          },
          "metadata": {}
        }
      ]
    },
    {
      "cell_type": "markdown",
      "source": [
        "# 2. Ventas por categoría"
      ],
      "metadata": {
        "id": "2V_vcAPzWZmR"
      }
    },
    {
      "cell_type": "code",
      "source": [
        "ventas_categoria = datos.groupby([\"Tienda\", \"Categoría del Producto\"]).size().reset_index(name=\"Cantidad\")"
      ],
      "metadata": {
        "id": "PZDFwq84MpMZ"
      },
      "execution_count": null,
      "outputs": []
    },
    {
      "cell_type": "code",
      "source": [
        "populares_por_tienda = ventas_categoria.sort_values([\"Tienda\", \"Cantidad\"], ascending=[True, False])\n",
        "populares_por_tienda = populares_por_tienda.groupby(\"Tienda\").head(3)\n",
        "print(populares_por_tienda)"
      ],
      "metadata": {
        "id": "A34YupIuYhfF",
        "colab": {
          "base_uri": "https://localhost:8080/"
        },
        "outputId": "5447cb20-5af4-421b-c14e-cb2d59fe4403"
      },
      "execution_count": null,
      "outputs": [
        {
          "output_type": "stream",
          "name": "stdout",
          "text": [
            "      Tienda Categoría del Producto  Cantidad\n",
            "7   Tienda 1                Muebles       465\n",
            "3   Tienda 1           Electrónicos       448\n",
            "5   Tienda 1               Juguetes       324\n",
            "15  Tienda 2                Muebles       442\n",
            "11  Tienda 2           Electrónicos       422\n",
            "13  Tienda 2               Juguetes       313\n",
            "23  Tienda 3                Muebles       499\n",
            "19  Tienda 3           Electrónicos       451\n",
            "21  Tienda 3               Juguetes       315\n",
            "31  Tienda 4                Muebles       480\n",
            "27  Tienda 4           Electrónicos       451\n",
            "29  Tienda 4               Juguetes       338\n"
          ]
        }
      ]
    },
    {
      "cell_type": "code",
      "source": [
        "import seaborn as sns\n",
        "import matplotlib.pyplot as plt\n",
        "\n",
        "plt.figure(figsize=(10,6))\n",
        "sns.barplot(data=populares_por_tienda, x=\"Categoría del Producto\", y=\"Cantidad\", hue=\"Tienda\")\n",
        "plt.title(\"Categorías más vendidas por tienda\")\n",
        "plt.xticks(rotation=45)\n",
        "plt.tight_layout()\n",
        "plt.show()\n"
      ],
      "metadata": {
        "id": "yZR6cOjXYSk1",
        "colab": {
          "base_uri": "https://localhost:8080/",
          "height": 607
        },
        "outputId": "404f26c5-bae6-408c-8e4f-bb82d9298ebe"
      },
      "execution_count": null,
      "outputs": [
        {
          "output_type": "display_data",
          "data": {
            "text/plain": [
              "<Figure size 1000x600 with 1 Axes>"
            ],
            "image/png": "[encoded data removed]"
          },
          "metadata": {}
        }
      ]
    },
    {
      "cell_type": "markdown",
      "source": [
        "# 3. Calificación promedio de la tienda\n"
      ],
      "metadata": {
        "id": "Rq6tU_xSY3jk"
      }
    },
    {
      "cell_type": "code",
      "source": [
        "print(datos[\"Calificación\"].value_counts())"
      ],
      "metadata": {
        "id": "bh3jjjJwY5MU",
        "colab": {
          "base_uri": "https://localhost:8080/"
        },
        "outputId": "a816b432-6c7d-45bc-dcd5-d80e6af17761"
      },
      "execution_count": null,
      "outputs": [
        {
          "output_type": "stream",
          "name": "stdout",
          "text": [
            "Calificación\n",
            "5    5250\n",
            "4    1813\n",
            "1    1199\n",
            "3     830\n",
            "2     343\n",
            "Name: count, dtype: int64\n"
          ]
        }
      ]
    },
    {
      "cell_type": "code",
      "source": [
        "\n",
        "# Agrupar los datos por tienda y calcular el promedio de calificación\n",
        "calificaciones_promedio = datos.groupby(\"Tienda\")[\"Calificación\"].mean().reset_index()\n",
        "\n",
        "# Redondeamos el promedio a 2 decimales para que sea más legible\n",
        "calificaciones_promedio[\"Calificación\"] = calificaciones_promedio[\"Calificación\"].round(2)\n",
        "\n",
        "# Mostrar los resultados\n",
        "print(calificaciones_promedio)"
      ],
      "metadata": {
        "id": "I0KkjPoTY88F",
        "colab": {
          "base_uri": "https://localhost:8080/"
        },
        "outputId": "26e1de76-ce20-4ed5-9bef-a4afc37ce51a"
      },
      "execution_count": null,
      "outputs": [
        {
          "output_type": "stream",
          "name": "stdout",
          "text": [
            "     Tienda  Calificación\n",
            "0  Tienda 1          3.98\n",
            "1  Tienda 2          4.04\n",
            "2  Tienda 3          4.05\n",
            "3  Tienda 4          4.00\n"
          ]
        }
      ]
    },
    {
      "cell_type": "code",
      "source": [
        "import matplotlib.pyplot as plt\n",
        "\n",
        "plt.figure(figsize=(8,5))\n",
        "plt.bar(calificaciones_promedio[\"Tienda\"], calificaciones_promedio[\"Calificación\"], color=\"skyblue\")\n",
        "plt.ylim(0, 5)\n",
        "plt.title(\"Calificación promedio por tienda\")\n",
        "plt.ylabel(\"Calificación (de 1 a 5)\")\n",
        "plt.xlabel(\"Tienda\")\n",
        "plt.show()\n"
      ],
      "metadata": {
        "colab": {
          "base_uri": "https://localhost:8080/",
          "height": 488
        },
        "id": "PivvZsVCPXDM",
        "outputId": "d3937668-414e-48ca-c9f6-b0713653dc82"
      },
      "execution_count": null,
      "outputs": [
        {
          "output_type": "display_data",
          "data": {
            "text/plain": [
              "<Figure size 800x500 with 1 Axes>"
            ],
            "image/png": "[encoded data removed]"
          },
          "metadata": {}
        }
      ]
    },
    {
      "cell_type": "markdown",
      "source": [
        "# 4. Productos más y menos vendidos"
      ],
      "metadata": {
        "id": "DmNp1KPBZCm-"
      }
    },
    {
      "cell_type": "code",
      "source": [
        "ventas_por_producto = datos.groupby([\"Tienda\", \"Producto\"]).size().reset_index(name=\"Ventas\")\n",
        "ventas_por_producto = ventas_por_producto.sort_values([\"Tienda\", \"Ventas\"], ascending=[True, False])\n",
        "ventas_por_producto = ventas_por_producto.groupby(\"Tienda\").head(3)\n",
        "print(ventas_por_producto.head())\n"
      ],
      "metadata": {
        "id": "qoyjqijQZHfF",
        "colab": {
          "base_uri": "https://localhost:8080/"
        },
        "outputId": "e89d3403-11ac-42df-962f-04467a5e536f"
      },
      "execution_count": null,
      "outputs": [
        {
          "output_type": "stream",
          "name": "stdout",
          "text": [
            "      Tienda                   Producto  Ventas\n",
            "1   Tienda 1                    Armario      60\n",
            "33  Tienda 1                 Microondas      60\n",
            "48  Tienda 1              TV LED UHD 4K      60\n",
            "75  Tienda 2  Iniciando en programación      65\n",
            "84  Tienda 2                 Microondas      62\n"
          ]
        }
      ]
    },
    {
      "cell_type": "code",
      "source": [
        "\n",
        "# Producto más vendido por tienda\n",
        "productos_mas_vendidos = ventas_por_producto.loc[ventas_por_producto.groupby(\"Tienda\")[\"Ventas\"].idxmax()]\n",
        "\n",
        "# Producto menos vendido por tienda\n",
        "productos_menos_vendidos = ventas_por_producto.loc[ventas_por_producto.groupby(\"Tienda\")[\"Ventas\"].idxmin()]\n",
        "\n",
        "# Mostramos los resultados\n",
        "print(\"Productos MÁS vendidos:\")\n",
        "print(productos_mas_vendidos)\n",
        "\n",
        "print(\"\\nProductos MENOS vendidos:\")\n",
        "print(productos_menos_vendidos)"
      ],
      "metadata": {
        "id": "0Sw3sd4IZIGW",
        "colab": {
          "base_uri": "https://localhost:8080/"
        },
        "outputId": "ca5bb3cf-c048-4a34-9ac7-f94a947c7d05"
      },
      "execution_count": null,
      "outputs": [
        {
          "output_type": "stream",
          "name": "stdout",
          "text": [
            "Productos MÁS vendidos:\n",
            "       Tienda                   Producto  Ventas\n",
            "1    Tienda 1                    Armario      60\n",
            "75   Tienda 2  Iniciando en programación      65\n",
            "129  Tienda 3              Kit de bancas      57\n",
            "163  Tienda 4                   Cama box      62\n",
            "\n",
            "Productos MENOS vendidos:\n",
            "       Tienda   Producto  Ventas\n",
            "1    Tienda 1    Armario      60\n",
            "58   Tienda 2    Batería      61\n",
            "113  Tienda 3  Cama king      56\n",
            "164  Tienda 4  Cama king      56\n"
          ]
        }
      ]
    },
    {
      "cell_type": "code",
      "source": [
        "plt.figure(figsize=(10,6))\n",
        "for tienda in datos[\"Tienda\"].unique():\n",
        "    top = ventas_por_producto[ventas_por_producto[\"Tienda\"] == tienda].sort_values(\"Ventas\", ascending=False).head(5)\n",
        "    plt.bar(top[\"Producto\"] + \" (\" + tienda + \")\", top[\"Ventas\"], label=tienda)\n",
        "\n",
        "plt.xticks(rotation=90)\n",
        "plt.ylabel(\"Ventas\")\n",
        "plt.title(\"Top 5 productos más vendidos por tienda\")\n",
        "plt.legend()\n",
        "plt.tight_layout()\n",
        "plt.show()"
      ],
      "metadata": {
        "colab": {
          "base_uri": "https://localhost:8080/",
          "height": 607
        },
        "id": "JG6y6M3rQc6n",
        "outputId": "6125deed-3752-4dcd-ee28-58f9c2df5dfa"
      },
      "execution_count": null,
      "outputs": [
        {
          "output_type": "display_data",
          "data": {
            "text/plain": [
              "<Figure size 1000x600 with 1 Axes>"
            ],
            "image/png": "[encoded data removed]"
          },
          "metadata": {}
        }
      ]
    },
    {
      "cell_type": "markdown",
      "source": [
        "# 5. Envío promedio por tienda"
      ],
      "metadata": {
        "id": "Fl0cGi3bZKqU"
      }
    },
    {
      "cell_type": "code",
      "source": [
        "\n",
        "# Agrupar por tienda y calcular el promedio del costo de envío\n",
        "envio_promedio = datos.groupby(\"Tienda\")[\"Costo de envío\"].mean().reset_index()\n",
        "\n",
        "# Redondear los valores a 2 decimales para mejor presentación\n",
        "envio_promedio[\"Costo de envío\"] = envio_promedio[\"Costo de envío\"].round(2)\n",
        "\n",
        "# Mostrar el resultado\n",
        "print(envio_promedio)\n"
      ],
      "metadata": {
        "id": "S2JeaCykZNy9",
        "colab": {
          "base_uri": "https://localhost:8080/"
        },
        "outputId": "f1f6e6c4-c096-4410-aebd-5cb73001bef2"
      },
      "execution_count": null,
      "outputs": [
        {
          "output_type": "stream",
          "name": "stdout",
          "text": [
            "     Tienda  Costo de envío\n",
            "0  Tienda 1        26018.61\n",
            "1  Tienda 2        25216.24\n",
            "2  Tienda 3        24805.68\n",
            "3  Tienda 4        23459.46\n"
          ]
        }
      ]
    },
    {
      "cell_type": "code",
      "source": [
        "plt.figure(figsize=(8,5))\n",
        "plt.bar(envio_promedio[\"Tienda\"], envio_promedio[\"Costo de envío\"], color=\"lightgreen\")\n",
        "plt.title(\"Costo de envío promedio por tienda\")\n",
        "plt.ylabel(\"Costo de envío\")\n",
        "plt.xlabel(\"Tienda\")\n",
        "plt.show()"
      ],
      "metadata": {
        "id": "0tSdCie9ZQlt",
        "colab": {
          "base_uri": "https://localhost:8080/",
          "height": 488
        },
        "outputId": "30988a28-fce6-45f3-b0c4-76b95a750434"
      },
      "execution_count": null,
      "outputs": [
        {
          "output_type": "display_data",
          "data": {
            "text/plain": [
              "<Figure size 800x500 with 1 Axes>"
            ],
            "image/png": "[encoded data removed]"
          },
          "metadata": {}
        }
      ]
    },
    {
      "cell_type": "markdown",
      "source": [
        "**Gráfico de barras: Ingresos por tienda**"
      ],
      "metadata": {
        "id": "B2lMs1ylk7s1"
      }
    },
    {
      "cell_type": "code",
      "source": [
        "\n",
        "import matplotlib.pyplot as plt\n",
        "\n",
        "# Calculamos ingresos (Precio + Costo de envío)\n",
        "datos[\"Ingresos\"] = datos[\"Precio\"] + datos[\"Costo de envío\"]\n",
        "\n",
        "# Ingresos totales por tienda\n",
        "ingresos_por_tienda = datos.groupby(\"Tienda\")[\"Ingresos\"].sum().sort_values(ascending=False)\n",
        "\n",
        "# Gráfico de barras\n",
        "plt.figure(figsize=(10,6))\n",
        "ingresos_por_tienda.plot(kind=\"bar\", color=\"mediumseagreen\")\n",
        "plt.title(\"Ingresos totales por tienda\")\n",
        "plt.ylabel(\"Ingresos (USD)\")\n",
        "plt.xlabel(\"Tienda\")\n",
        "plt.xticks(rotation=45)\n",
        "plt.grid(axis=\"y\", linestyle=\"--\", alpha=0.5)\n",
        "plt.tight_layout()\n",
        "plt.show()\n"
      ],
      "metadata": {
        "id": "SPNgGbtNlC8D"
      },
      "execution_count": null,
      "outputs": []
    },
    {
      "cell_type": "markdown",
      "source": [
        "**Gráfico de pastel: Distribución de categorías de productos**"
      ],
      "metadata": {
        "id": "44jPZNexlGQY"
      }
    },
    {
      "cell_type": "code",
      "source": [
        "# Conteo de productos por categoría\n",
        "categorias = datos[\"Categoría del Producto\"].value_counts()\n",
        "\n",
        "# Gráfico de pastel\n",
        "plt.figure(figsize=(8,8))\n",
        "plt.pie(categorias, labels=categorias.index, autopct=\"%1.1f%%\", startangle=140, colors=plt.cm.Set3.colors)\n",
        "plt.title(\"Distribución de Categorías de Producto\")\n",
        "plt.axis(\"equal\")  # para que sea un círculo perfecto\n",
        "plt.show()\n"
      ],
      "metadata": {
        "id": "UrN8OSlxlEwL"
      },
      "execution_count": null,
      "outputs": []
    },
    {
      "cell_type": "markdown",
      "source": [
        "**Gráfico de dispersión: Relación entre precio y calificación**"
      ],
      "metadata": {
        "id": "3EkzWAdplNX2"
      }
    },
    {
      "cell_type": "code",
      "source": [
        "# Gráfico de dispersión\n",
        "plt.figure(figsize=(10,6))\n",
        "plt.scatter(datos[\"Precio\"], datos[\"Calificación\"], alpha=0.6, color=\"royalblue\")\n",
        "plt.title(\"Relación entre Precio y Calificación del Cliente\")\n",
        "plt.xlabel(\"Precio del Producto (USD)\")\n",
        "plt.ylabel(\"Calificación del Cliente (1 a 5)\")\n",
        "plt.grid(True, linestyle=\"--\", alpha=0.5)\n",
        "plt.tight_layout()\n",
        "plt.show()\n"
      ],
      "metadata": {
        "id": "KNyonToqlP4S"
      },
      "execution_count": null,
      "outputs": []
    },
    {
      "cell_type": "markdown",
      "source": [
        "**Gráfico de barras apiladas: Productos más vendidos por tienda y categoría**"
      ],
      "metadata": {
        "id": "hJyKbRtqlRfj"
      }
    },
    {
      "cell_type": "code",
      "source": [
        "# Agrupamos por tienda y categoría de producto, y contamos ventas\n",
        "ventas = datos.groupby([\"Tienda\", \"Categoría del Producto\"])[\"Producto\"].count().unstack(fill_value=0)\n",
        "\n",
        "# Gráfico de barras apiladas\n",
        "ventas.plot(kind=\"bar\", stacked=True, figsize=(12, 7), colormap=\"tab20c\")\n",
        "plt.title(\"Productos Vendidos por Tienda y Categoría\")\n",
        "plt.xlabel(\"Tienda\")\n",
        "plt.ylabel(\"Cantidad de Productos Vendidos\")\n",
        "plt.xticks(rotation=45)\n",
        "plt.legend(title=\"Categoría del Producto\", bbox_to_anchor=(1.05, 1), loc=\"upper left\")\n",
        "plt.tight_layout()\n",
        "plt.grid(axis=\"y\", linestyle=\"--\", alpha=0.5)\n",
        "plt.show()"
      ],
      "metadata": {
        "id": "gL4lJyK8lUjh"
      },
      "execution_count": null,
      "outputs": []
    },
    {
      "cell_type": "markdown",
      "source": [
        "3. Recomendación de Venta: Informe para el Sr. Joao\n",
        "Resumen del Análisis\n",
        "Ingresos: La Tienda 1 registra los mayores ingresos totales ($1.150 millones), seguida por la Tienda 2 ($1.116 millones). La Tienda 4 muestra los ingresos más bajos ($1.038 millones).\n",
        "\n",
        "Ventas por Categoría: Las categorías de Muebles y Electrónicos son consistentemente las más vendidas en todas las tiendas, indicando una alta demanda en estos segmentos.\n",
        "\n",
        "Satisfacción del Cliente: La Tienda 3 tiene la calificación promedio más alta (4.05), mientras que la Tienda 1 tiene la más baja (3.98), aunque la diferencia es marginal. Todas las tiendas mantienen un buen nivel de satisfacción.\n",
        "\n",
        "Costo de Envío: La Tienda 4 tiene el costo de envío promedio más bajo ($23.459), lo que podría ser una ventaja competitiva no aprovechada.\n",
        "\n",
        "Recomendación Estratégica\n",
        "Considerando los datos, se recomienda al Sr. Joao vender la Tienda 4.\n",
        "\n",
        "Justificación\n",
        "La Tienda 4 es la candidata más lógica para la venta por las siguientes razones:\n",
        "\n",
        "Menor Rentabilidad: A pesar de tener el costo de envío más bajo, sus ingresos totales son los más bajos de las cuatro tiendas. Esto indica que no está monetizando eficazmente el tráfico o las ventas, o que la competencia es más fuerte en su mercado.\n",
        "\n",
        "Rendimiento Inferior: Los datos muestran que la Tienda 4 tiene un bajo rendimiento en ventas de productos clave, como la 'Cama king', lo que señala una debilidad en su catálogo o en su estrategia de ventas.\n",
        "\n",
        "Potencial de Crecimiento Limitado: Las Tiendas 1, 2 y 3 muestran un rendimiento superior en ingresos y satisfacción del cliente, lo que las posiciona como activos con mayor potencial de crecimiento y valor a largo plazo.\n",
        "\n",
        "En conclusión, la venta de la Tienda 4 permitiría al Sr. Joao liberar capital de un activo de bajo rendimiento para reinvertirlo en las tiendas más fuertes, como la Tienda 1 o la Tienda 2, maximizando así su portafolio de negocios."
      ],
      "metadata": {
        "id": "ajvByEp_lWY-"
      }
    }
  ]
}